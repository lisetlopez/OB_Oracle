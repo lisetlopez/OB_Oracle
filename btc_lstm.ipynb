{
 "cells": [
  {
   "cell_type": "code",
   "execution_count": 7,
   "id": "d0fb8350-d634-49ab-a278-349048085174",
   "metadata": {},
   "outputs": [],
   "source": [
    "import matplotlib.pyplot as plt\n",
    "from pathlib import Path\n",
    "import numpy as np\n",
    "import pandas as pd\n",
    "import tensorflow as tf\n",
    "import keras\n",
    "from keras.utils import timeseries_dataset_from_array\n",
    "\n",
    "import warnings\n",
    "warnings.filterwarnings('ignore')"
   ]
  },
  {
   "cell_type": "code",
   "execution_count": 9,
   "id": "87e43912-adfd-4e1c-b5ce-ed26c011facb",
   "metadata": {},
   "outputs": [],
   "source": [
    "BTC_df = pd.read_csv(\n",
    "    Path('derived_data/crypto_BTC_5min.csv')\n",
    ")"
   ]
  },
  {
   "cell_type": "code",
   "execution_count": 10,
   "id": "4b751d25-3f80-443e-94eb-350886b1418e",
   "metadata": {},
   "outputs": [
    {
     "data": {
      "text/html": [
       "<div>\n",
       "<style scoped>\n",
       "    .dataframe tbody tr th:only-of-type {\n",
       "        vertical-align: middle;\n",
       "    }\n",
       "\n",
       "    .dataframe tbody tr th {\n",
       "        vertical-align: top;\n",
       "    }\n",
       "\n",
       "    .dataframe thead th {\n",
       "        text-align: right;\n",
       "    }\n",
       "</style>\n",
       "<table border=\"1\" class=\"dataframe\">\n",
       "  <thead>\n",
       "    <tr style=\"text-align: right;\">\n",
       "      <th></th>\n",
       "      <th>system_time</th>\n",
       "      <th>midpoint</th>\n",
       "      <th>spread</th>\n",
       "      <th>buys</th>\n",
       "      <th>sells</th>\n",
       "      <th>bids_distance_0</th>\n",
       "      <th>bids_price_0</th>\n",
       "      <th>bids_limit_quantity_0</th>\n",
       "      <th>bids_limit_cum_quantity_0</th>\n",
       "      <th>bids_limit_notional_0</th>\n",
       "      <th>...</th>\n",
       "      <th>bids_limit_cum_quantity_14</th>\n",
       "      <th>bids_limit_notional_14</th>\n",
       "      <th>bids_limit_cum_notional_14</th>\n",
       "      <th>asks_distance_14</th>\n",
       "      <th>asks_price_14</th>\n",
       "      <th>asks_limit_quantity_14</th>\n",
       "      <th>asks_limit_cum_quantity_14</th>\n",
       "      <th>asks_limit_notional_14</th>\n",
       "      <th>bids_asks_imbalance_limit_notional_14</th>\n",
       "      <th>asks_limit_cum_notional_14</th>\n",
       "    </tr>\n",
       "  </thead>\n",
       "  <tbody>\n",
       "    <tr>\n",
       "      <th>0</th>\n",
       "      <td>2021-04-07 11:37:41.122161+00:00</td>\n",
       "      <td>55899.995</td>\n",
       "      <td>0.01</td>\n",
       "      <td>1.199304e+07</td>\n",
       "      <td>1.348616e+07</td>\n",
       "      <td>-8.944544e-08</td>\n",
       "      <td>55899.99</td>\n",
       "      <td>0.363289</td>\n",
       "      <td>0.363289</td>\n",
       "      <td>2.030784e+04</td>\n",
       "      <td>...</td>\n",
       "      <td>2.676582</td>\n",
       "      <td>500.000000</td>\n",
       "      <td>1.495714e+05</td>\n",
       "      <td>0.000787</td>\n",
       "      <td>55944.000000</td>\n",
       "      <td>15.829499</td>\n",
       "      <td>61.744002</td>\n",
       "      <td>885565.500000</td>\n",
       "      <td>0.000564</td>\n",
       "      <td>3.452392e+06</td>\n",
       "    </tr>\n",
       "    <tr>\n",
       "      <th>1</th>\n",
       "      <td>2021-04-07 11:42:41.122161+00:00</td>\n",
       "      <td>56111.655</td>\n",
       "      <td>0.01</td>\n",
       "      <td>1.029537e+07</td>\n",
       "      <td>5.020347e+06</td>\n",
       "      <td>-8.910805e-08</td>\n",
       "      <td>56111.65</td>\n",
       "      <td>0.150000</td>\n",
       "      <td>0.150000</td>\n",
       "      <td>8.416750e+03</td>\n",
       "      <td>...</td>\n",
       "      <td>3.245218</td>\n",
       "      <td>29264.210938</td>\n",
       "      <td>1.820408e+05</td>\n",
       "      <td>0.000459</td>\n",
       "      <td>56137.430000</td>\n",
       "      <td>0.100000</td>\n",
       "      <td>8.818123</td>\n",
       "      <td>5613.740234</td>\n",
       "      <td>0.839046</td>\n",
       "      <td>4.948874e+05</td>\n",
       "    </tr>\n",
       "    <tr>\n",
       "      <th>2</th>\n",
       "      <td>2021-04-07 11:47:41.122161+00:00</td>\n",
       "      <td>56100.015</td>\n",
       "      <td>0.01</td>\n",
       "      <td>3.825363e+06</td>\n",
       "      <td>4.640026e+06</td>\n",
       "      <td>-8.912654e-08</td>\n",
       "      <td>56100.01</td>\n",
       "      <td>0.373553</td>\n",
       "      <td>0.373553</td>\n",
       "      <td>2.095634e+04</td>\n",
       "      <td>...</td>\n",
       "      <td>7.335956</td>\n",
       "      <td>5126.859863</td>\n",
       "      <td>4.115042e+05</td>\n",
       "      <td>0.000531</td>\n",
       "      <td>56129.800002</td>\n",
       "      <td>0.009991</td>\n",
       "      <td>16.142200</td>\n",
       "      <td>560.789978</td>\n",
       "      <td>0.901402</td>\n",
       "      <td>9.056801e+05</td>\n",
       "    </tr>\n",
       "    <tr>\n",
       "      <th>3</th>\n",
       "      <td>2021-04-07 11:52:41.122161+00:00</td>\n",
       "      <td>56163.445</td>\n",
       "      <td>5.65</td>\n",
       "      <td>2.876023e+06</td>\n",
       "      <td>3.422145e+06</td>\n",
       "      <td>-5.029962e-05</td>\n",
       "      <td>56160.62</td>\n",
       "      <td>0.030336</td>\n",
       "      <td>0.030336</td>\n",
       "      <td>1.703690e+03</td>\n",
       "      <td>...</td>\n",
       "      <td>4.452110</td>\n",
       "      <td>16081.540039</td>\n",
       "      <td>2.499928e+05</td>\n",
       "      <td>0.000180</td>\n",
       "      <td>56173.580000</td>\n",
       "      <td>0.356061</td>\n",
       "      <td>12.964191</td>\n",
       "      <td>20001.240234</td>\n",
       "      <td>0.445685</td>\n",
       "      <td>7.282168e+05</td>\n",
       "    </tr>\n",
       "    <tr>\n",
       "      <th>4</th>\n",
       "      <td>2021-04-07 11:57:41.122161+00:00</td>\n",
       "      <td>56229.995</td>\n",
       "      <td>0.01</td>\n",
       "      <td>2.393997e+06</td>\n",
       "      <td>3.119070e+06</td>\n",
       "      <td>-8.892052e-08</td>\n",
       "      <td>56229.99</td>\n",
       "      <td>34.393039</td>\n",
       "      <td>34.393039</td>\n",
       "      <td>1.933920e+06</td>\n",
       "      <td>...</td>\n",
       "      <td>37.701810</td>\n",
       "      <td>11240.660156</td>\n",
       "      <td>2.119920e+06</td>\n",
       "      <td>0.000135</td>\n",
       "      <td>56237.590000</td>\n",
       "      <td>0.027765</td>\n",
       "      <td>39.034703</td>\n",
       "      <td>1561.459961</td>\n",
       "      <td>0.878031</td>\n",
       "      <td>2.194926e+06</td>\n",
       "    </tr>\n",
       "  </tbody>\n",
       "</table>\n",
       "<p>5 rows × 200 columns</p>\n",
       "</div>"
      ],
      "text/plain": [
       "                        system_time   midpoint  spread          buys  \\\n",
       "0  2021-04-07 11:37:41.122161+00:00  55899.995    0.01  1.199304e+07   \n",
       "1  2021-04-07 11:42:41.122161+00:00  56111.655    0.01  1.029537e+07   \n",
       "2  2021-04-07 11:47:41.122161+00:00  56100.015    0.01  3.825363e+06   \n",
       "3  2021-04-07 11:52:41.122161+00:00  56163.445    5.65  2.876023e+06   \n",
       "4  2021-04-07 11:57:41.122161+00:00  56229.995    0.01  2.393997e+06   \n",
       "\n",
       "          sells  bids_distance_0  bids_price_0  bids_limit_quantity_0  \\\n",
       "0  1.348616e+07    -8.944544e-08      55899.99               0.363289   \n",
       "1  5.020347e+06    -8.910805e-08      56111.65               0.150000   \n",
       "2  4.640026e+06    -8.912654e-08      56100.01               0.373553   \n",
       "3  3.422145e+06    -5.029962e-05      56160.62               0.030336   \n",
       "4  3.119070e+06    -8.892052e-08      56229.99              34.393039   \n",
       "\n",
       "   bids_limit_cum_quantity_0  bids_limit_notional_0  ...  \\\n",
       "0                   0.363289           2.030784e+04  ...   \n",
       "1                   0.150000           8.416750e+03  ...   \n",
       "2                   0.373553           2.095634e+04  ...   \n",
       "3                   0.030336           1.703690e+03  ...   \n",
       "4                  34.393039           1.933920e+06  ...   \n",
       "\n",
       "   bids_limit_cum_quantity_14  bids_limit_notional_14  \\\n",
       "0                    2.676582              500.000000   \n",
       "1                    3.245218            29264.210938   \n",
       "2                    7.335956             5126.859863   \n",
       "3                    4.452110            16081.540039   \n",
       "4                   37.701810            11240.660156   \n",
       "\n",
       "   bids_limit_cum_notional_14  asks_distance_14  asks_price_14  \\\n",
       "0                1.495714e+05          0.000787   55944.000000   \n",
       "1                1.820408e+05          0.000459   56137.430000   \n",
       "2                4.115042e+05          0.000531   56129.800002   \n",
       "3                2.499928e+05          0.000180   56173.580000   \n",
       "4                2.119920e+06          0.000135   56237.590000   \n",
       "\n",
       "   asks_limit_quantity_14  asks_limit_cum_quantity_14  asks_limit_notional_14  \\\n",
       "0               15.829499                   61.744002           885565.500000   \n",
       "1                0.100000                    8.818123             5613.740234   \n",
       "2                0.009991                   16.142200              560.789978   \n",
       "3                0.356061                   12.964191            20001.240234   \n",
       "4                0.027765                   39.034703             1561.459961   \n",
       "\n",
       "   bids_asks_imbalance_limit_notional_14  asks_limit_cum_notional_14  \n",
       "0                               0.000564                3.452392e+06  \n",
       "1                               0.839046                4.948874e+05  \n",
       "2                               0.901402                9.056801e+05  \n",
       "3                               0.445685                7.282168e+05  \n",
       "4                               0.878031                2.194926e+06  \n",
       "\n",
       "[5 rows x 200 columns]"
      ]
     },
     "execution_count": 10,
     "metadata": {},
     "output_type": "execute_result"
    }
   ],
   "source": [
    "BTC_df.head()"
   ]
  },
  {
   "cell_type": "code",
   "execution_count": 11,
   "id": "f2517c66-ecac-4081-b687-67781e4bc42e",
   "metadata": {},
   "outputs": [],
   "source": [
    "BTC_df.drop(\"system_time\", inplace = True, axis = 1)"
   ]
  },
  {
   "cell_type": "code",
   "execution_count": 12,
   "id": "09224f60-e528-4d49-8827-66a5ee0ea017",
   "metadata": {},
   "outputs": [
    {
     "data": {
      "text/plain": [
       "(3367, 199)"
      ]
     },
     "execution_count": 12,
     "metadata": {},
     "output_type": "execute_result"
    }
   ],
   "source": [
    "BTC_df.shape"
   ]
  },
  {
   "cell_type": "code",
   "execution_count": 13,
   "id": "0a1de4d5-8bac-42c5-85a3-a4b8cbd9d386",
   "metadata": {},
   "outputs": [
    {
     "data": {
      "text/plain": [
       "2694"
      ]
     },
     "execution_count": 13,
     "metadata": {},
     "output_type": "execute_result"
    }
   ],
   "source": [
    "data_length = BTC_df.shape[0]\n",
    "\n",
    "train_length = round(0.8*data_length)\n",
    "train_length"
   ]
  },
  {
   "cell_type": "code",
   "execution_count": 14,
   "id": "7258ec33-960c-485c-b180-720cb8bdcff7",
   "metadata": {},
   "outputs": [],
   "source": [
    "mean_df = BTC_df[:train_length].mean()\n",
    "std_df = BTC_df[:train_length].std()\n",
    "\n",
    "normalized_df = (BTC_df - mean_df) / std_df"
   ]
  },
  {
   "cell_type": "code",
   "execution_count": 15,
   "id": "f1da6f1e-650d-4c64-a3a0-a3926422fff8",
   "metadata": {
    "collapsed": true,
    "jupyter": {
     "outputs_hidden": true
    },
    "tags": []
   },
   "outputs": [
    {
     "name": "stderr",
     "output_type": "stream",
     "text": [
      "2022-12-12 05:03:30.388287: I tensorflow/core/platform/cpu_feature_guard.cc:193] This TensorFlow binary is optimized with oneAPI Deep Neural Network Library (oneDNN) to use the following CPU instructions in performance-critical operations:  AVX2 AVX512F AVX512_VNNI FMA\n",
      "To enable them in other operations, rebuild TensorFlow with the appropriate compiler flags.\n"
     ]
    }
   ],
   "source": [
    "# Set window size\n",
    "window_size = 30\n",
    "\n",
    "# Windows for training dataset\n",
    "windows_train = timeseries_dataset_from_array(normalized_df[:(train_length)], normalized_df[\"midpoint\"][window_size:(train_length+window_size)], window_size, sequence_stride=1, sampling_rate=1,\n",
    "    batch_size=64, shuffle=False, seed=None, start_index=None, end_index=None\n",
    ")\n",
    "\n",
    "\n",
    "# Windows for test dataset\n",
    "windows_test = timeseries_dataset_from_array(normalized_df[train_length:(data_length-window_size)], normalized_df[\"midpoint\"][train_length + window_size:], 30, sequence_stride=1, sampling_rate=1,\n",
    "    batch_size=64, shuffle=False, seed=None, start_index=None, end_index=None\n",
    ")"
   ]
  },
  {
   "cell_type": "code",
   "execution_count": 23,
   "id": "4a8b1747-c8fd-41b7-9434-35062946a62f",
   "metadata": {},
   "outputs": [
    {
     "name": "stdout",
     "output_type": "stream",
     "text": [
      "Epoch 1/20\n",
      "42/42 [==============================] - 1s 6ms/step - loss: 11.4608 - mse: 11.4608\n",
      "Epoch 2/20\n",
      "42/42 [==============================] - 0s 6ms/step - loss: 11.2386 - mse: 11.2386\n",
      "Epoch 3/20\n",
      "42/42 [==============================] - 0s 6ms/step - loss: 4.2775 - mse: 4.2775\n",
      "Epoch 4/20\n",
      "42/42 [==============================] - 0s 6ms/step - loss: 2.4939 - mse: 2.4939\n",
      "Epoch 5/20\n",
      "42/42 [==============================] - 0s 6ms/step - loss: 1.0379 - mse: 1.0379\n",
      "Epoch 6/20\n",
      "42/42 [==============================] - 0s 7ms/step - loss: 0.8490 - mse: 0.8490\n",
      "Epoch 7/20\n",
      "42/42 [==============================] - 0s 7ms/step - loss: 0.3163 - mse: 0.3163\n",
      "Epoch 8/20\n",
      "42/42 [==============================] - 0s 7ms/step - loss: 0.5626 - mse: 0.5626\n",
      "Epoch 9/20\n",
      "42/42 [==============================] - 0s 7ms/step - loss: 0.9607 - mse: 0.9607\n",
      "Epoch 10/20\n",
      "42/42 [==============================] - 0s 7ms/step - loss: 1.8969 - mse: 1.8969\n",
      "Epoch 11/20\n",
      "42/42 [==============================] - 0s 7ms/step - loss: 2.1695 - mse: 2.1695\n",
      "Epoch 12/20\n",
      "42/42 [==============================] - 0s 7ms/step - loss: 1.2300 - mse: 1.2300\n",
      "Epoch 13/20\n",
      "42/42 [==============================] - 0s 7ms/step - loss: 0.3470 - mse: 0.3470\n",
      "Epoch 14/20\n",
      "42/42 [==============================] - 0s 7ms/step - loss: 0.5777 - mse: 0.5777\n",
      "Epoch 15/20\n",
      "42/42 [==============================] - 0s 7ms/step - loss: 0.5983 - mse: 0.5983\n",
      "Epoch 16/20\n",
      "42/42 [==============================] - 0s 7ms/step - loss: 0.7160 - mse: 0.7160\n",
      "Epoch 17/20\n",
      "42/42 [==============================] - 0s 10ms/step - loss: 0.6959 - mse: 0.6959\n",
      "Epoch 18/20\n",
      "42/42 [==============================] - 0s 7ms/step - loss: 0.4258 - mse: 0.4258\n",
      "Epoch 19/20\n",
      "42/42 [==============================] - 0s 8ms/step - loss: 0.5648 - mse: 0.5648\n",
      "Epoch 20/20\n",
      "42/42 [==============================] - 0s 7ms/step - loss: 0.2556 - mse: 0.2556\n"
     ]
    }
   ],
   "source": [
    "model_dense = keras.models.Sequential([\n",
    "    keras.layers.Flatten(input_shape=[30, 199]),\n",
    "    keras.layers.Dense(16),\n",
    "    keras.layers.Dense(1)\n",
    "    ])\n",
    "    \n",
    "model_dense.compile(loss=\"mse\", optimizer=\"adam\", metrics=[\"mse\"])\n",
    "history = model_dense.fit(windows_train, epochs=20,verbose=1)"
   ]
  },
  {
   "cell_type": "code",
   "execution_count": 24,
   "id": "ac4ab16c-20ed-4485-8d72-ff3f7a37568b",
   "metadata": {},
   "outputs": [
    {
     "name": "stdout",
     "output_type": "stream",
     "text": [
      "10/10 [==============================] - 0s 3ms/step\n"
     ]
    },
    {
     "data": {
      "text/plain": [
       "<matplotlib.legend.Legend at 0x7fa227ab4fd0>"
      ]
     },
     "execution_count": 24,
     "metadata": {},
     "output_type": "execute_result"
    },
    {
     "data": {
      "image/png": "[encoded data removed]",
      "text/plain": [
       "<Figure size 432x288 with 1 Axes>"
      ]
     },
     "metadata": {
      "needs_background": "light"
     },
     "output_type": "display_data"
    }
   ],
   "source": [
    "preds_dense = model_dense.predict(windows_test)\n",
    "\n",
    "# Remove standardization from predictions\n",
    "\n",
    "preds_dense_unstd = preds_dense * std_df[\"midpoint\"] + mean_df[\"midpoint\"]\n",
    "\n",
    "\n",
    "# Plot \n",
    "plt.plot(preds_dense_unstd, label = \"Prediction\")\n",
    "plt.plot(BTC_df[\"midpoint\"][train_length + window_size:].reset_index(drop = True), label = \"True Price\")\n",
    "plt.legend(loc=\"upper right\")"
   ]
  },
  {
   "cell_type": "code",
   "execution_count": 26,
   "id": "19998698-9c8a-45a0-b610-0e34c585d1ed",
   "metadata": {},
   "outputs": [
    {
     "name": "stdout",
     "output_type": "stream",
     "text": [
      "Epoch 1/20\n",
      "42/42 [==============================] - 2s 18ms/step - loss: 0.7093 - mse: 0.7093\n",
      "Epoch 2/20\n",
      "42/42 [==============================] - 1s 16ms/step - loss: 0.1058 - mse: 0.1058\n",
      "Epoch 3/20\n",
      "42/42 [==============================] - 1s 16ms/step - loss: 0.0743 - mse: 0.0743\n",
      "Epoch 4/20\n",
      "42/42 [==============================] - 1s 20ms/step - loss: 0.0392 - mse: 0.0392\n",
      "Epoch 5/20\n",
      "42/42 [==============================] - 1s 16ms/step - loss: 0.0296 - mse: 0.0296\n",
      "Epoch 6/20\n",
      "42/42 [==============================] - 1s 18ms/step - loss: 0.0236 - mse: 0.0236\n",
      "Epoch 7/20\n",
      "42/42 [==============================] - 1s 15ms/step - loss: 0.0177 - mse: 0.0177\n",
      "Epoch 8/20\n",
      "42/42 [==============================] - 1s 16ms/step - loss: 0.0156 - mse: 0.0156\n",
      "Epoch 9/20\n",
      "42/42 [==============================] - 1s 18ms/step - loss: 0.0133 - mse: 0.0133\n",
      "Epoch 10/20\n",
      "42/42 [==============================] - 1s 17ms/step - loss: 0.0115 - mse: 0.0115\n",
      "Epoch 11/20\n",
      "42/42 [==============================] - 1s 19ms/step - loss: 0.0103 - mse: 0.0103\n",
      "Epoch 12/20\n",
      "42/42 [==============================] - 1s 18ms/step - loss: 0.0092 - mse: 0.0092\n",
      "Epoch 13/20\n",
      "42/42 [==============================] - 1s 18ms/step - loss: 0.0085 - mse: 0.0085\n",
      "Epoch 14/20\n",
      "42/42 [==============================] - 1s 20ms/step - loss: 0.0078 - mse: 0.0078\n",
      "Epoch 15/20\n",
      "42/42 [==============================] - 1s 24ms/step - loss: 0.0071 - mse: 0.0071\n",
      "Epoch 16/20\n",
      "42/42 [==============================] - 1s 23ms/step - loss: 0.0066 - mse: 0.0066\n",
      "Epoch 17/20\n",
      "42/42 [==============================] - 1s 23ms/step - loss: 0.0063 - mse: 0.0063\n",
      "Epoch 18/20\n",
      "42/42 [==============================] - 1s 22ms/step - loss: 0.0061 - mse: 0.0061\n",
      "Epoch 19/20\n",
      "42/42 [==============================] - 1s 24ms/step - loss: 0.0066 - mse: 0.0066\n",
      "Epoch 20/20\n",
      "42/42 [==============================] - 1s 23ms/step - loss: 0.0064 - mse: 0.0064\n"
     ]
    }
   ],
   "source": [
    "model_lstm = keras.models.Sequential([\n",
    "    keras.layers.LSTM(16, input_shape=[30, 199]),\n",
    "    keras.layers.Dense(1)\n",
    "    ])\n",
    "    \n",
    "model_lstm.compile(loss=\"mse\", optimizer=\"adam\", metrics=[\"mse\"])\n",
    "history = model_lstm.fit(windows_train, epochs=20,verbose=1)"
   ]
  },
  {
   "cell_type": "code",
   "execution_count": 27,
   "id": "583e4ea3-484c-4246-bbf6-fb549049e6e5",
   "metadata": {},
   "outputs": [
    {
     "name": "stdout",
     "output_type": "stream",
     "text": [
      "10/10 [==============================] - 0s 9ms/step\n"
     ]
    },
    {
     "data": {
      "text/plain": [
       "<matplotlib.legend.Legend at 0x7fa22a1cb7f0>"
      ]
     },
     "execution_count": 27,
     "metadata": {},
     "output_type": "execute_result"
    },
    {
     "data": {
      "image/png": "[encoded data removed]",
      "text/plain": [
       "<Figure size 432x288 with 1 Axes>"
      ]
     },
     "metadata": {
      "needs_background": "light"
     },
     "output_type": "display_data"
    }
   ],
   "source": [
    "# Predict\n",
    "preds_lstm = model_lstm.predict(windows_test)\n",
    "\n",
    "# Remove standardization from predictions\n",
    "\n",
    "preds_lstm_unstd = preds_lstm * std_df[\"midpoint\"] + mean_df[\"midpoint\"]\n",
    "\n",
    "\n",
    "# Plot \n",
    "plt.plot(preds_lstm_unstd, label = \"Prediction\")\n",
    "plt.plot(BTC_df[\"midpoint\"][train_length + window_size:].reset_index(drop = True), label = \"True Price\")\n",
    "plt.legend(loc=\"upper right\")"
   ]
  },
  {
   "cell_type": "code",
   "execution_count": 52,
   "id": "6e7a6d10-d7ce-4d31-8451-e12b0b91a04f",
   "metadata": {},
   "outputs": [],
   "source": [
    "import panel.widgets as pnw"
   ]
  },
  {
   "cell_type": "code",
   "execution_count": null,
   "id": "f895c268-bcb7-49f4-92ec-7e56b4ad06ba",
   "metadata": {},
   "outputs": [],
   "source": [
    "f1 = pnw.Select(options=list(breast_cancer.feature_names), name=\"Scatter Plot Feature 1\")\n",
    "f2 = pnw.Select(options=list(breast_cancer.feature_names), name=\"Scatter Plot Feature 2\")"
   ]
  }
 ],
 "metadata": {
  "kernelspec": {
   "display_name": "Python 3 (ipykernel)",
   "language": "python",
   "name": "python3"
  },
  "language_info": {
   "codemirror_mode": {
    "name": "ipython",
    "version": 3
   },
   "file_extension": ".py",
   "mimetype": "text/x-python",
   "name": "python",
   "nbconvert_exporter": "python",
   "pygments_lexer": "ipython3",
   "version": "3.9.12"
  }
 },
 "nbformat": 4,
 "nbformat_minor": 5
}
